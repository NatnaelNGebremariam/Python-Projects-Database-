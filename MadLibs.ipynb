{
 "cells": [
  {
   "cell_type": "markdown",
   "metadata": {},
   "source": [
    "Discrete Math Sample Jupyter Notebook"
   ]
  },
  {
   "cell_type": "markdown",
   "metadata": {},
   "source": [
    "Sample Problem:  Find all prime numbers under $10000$, using the Sieve of Erastothenes.  The code you see here is native Python code, and is deliev"
   ]
  },
  {
   "cell_type": "code",
   "execution_count": null,
   "metadata": {},
   "outputs": [],
   "source": [
    "print(\"Hello, today you will be filling out a MadLib!\")\n",
    "\n",
    "Date=input(\"What is today's date ? (XX/XX/XXXX)\")\n",
    "Name=input('Give me any name? (Other than yours)')\n",
    "YourName=input('Give me your name?')\n",
    "POB=input('Name a part of the body!')\n",
    "TOF=input('Name a type of fluid!')\n",
    "SSE=input('Name a substance!')\n",
    "madlibs=dict()\n",
    "\n",
    "madlibs[\"Date\"]= Date\n",
    "madlibs['Name']= Name\n",
    "madlibs['YourName']= YourName\n",
    "madlibs['BodyPart']= POB\n",
    "madlibs['Fluid']= TOF\n",
    "madlibs['Substance']= SSE\n",
    "\n",
    "\n",
    "print('Here are the results and enjoy!:')\n",
    "print('Date:'+ madlibs['Date'])\n",
    "print(madlibs['Name']+' is sick with the '+madlibs['BodyPart']+' Flu. Make sure to drink more '+madlibs['Fluid']+' and take '+madlibs['Substance']+' as needed.')\n",
    "\n",
    "print('Signed:'+ madlibs['YourName'])"
   ]
  }
 ],
 "metadata": {
  "kernelspec": {
   "display_name": "SageMath 9.1",
   "language": "sage",
   "name": "sagemath"
  }
 },
 "nbformat": 4,
 "nbformat_minor": 4
}
