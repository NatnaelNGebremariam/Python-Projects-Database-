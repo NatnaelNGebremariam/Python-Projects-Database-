{
 "cells": [
  {
   "cell_type": "markdown",
   "metadata": {},
   "source": [
    "# INST 126 - HW: Regex and Web Scraping"
   ]
  },
  {
   "cell_type": "markdown",
   "metadata": {},
   "source": [
    "### Q1 (2 pts) Extracting the number of people in space\n",
    "The url below is a link to a json file that contains data about people currently in space. Load in the url above as a json file and extract the total number of people currently in space.\n",
    "<br> Link: http://api.open-notify.org/astros.json "
   ]
  },
  {
   "cell_type": "code",
   "execution_count": 65,
   "metadata": {},
   "outputs": [
    {
     "name": "stdout",
     "output_type": "stream",
     "text": [
      "Number of people in space: 6\n"
     ]
    }
   ],
   "source": [
    "# import required libraries\n",
    "import urllib.request, urllib.parse, urllib.error\n",
    "import json\n",
    "\n",
    "\n",
    "# Use urllib.request and urlopen to open the url\n",
    "\n",
    "\n",
    "# Read and decode the file\n",
    "\n",
    "\n",
    "# Load in the file as json\n",
    "\n",
    "\n",
    "# extract the number of people\n"
   ]
  },
  {
   "cell_type": "markdown",
   "metadata": {},
   "source": [
    "### Q2 (2 pts) Extract names of people in space\n",
    "Using the same json file, print out the names all six people in space."
   ]
  },
  {
   "cell_type": "code",
   "execution_count": 66,
   "metadata": {},
   "outputs": [
    {
     "name": "stdout",
     "output_type": "stream",
     "text": [
      "Person 1: Anton Shkaplerov\n",
      "Person 2: Scott Tingle\n",
      "Person 3: Norishige Kanai\n",
      "Person 4: Oleg Artemyev\n",
      "Person 5: Andrew Feustel\n",
      "Person 6: Richard Arnold\n"
     ]
    }
   ],
   "source": [
    "# Extract the name of the 6 people currently in space\n",
    "\n",
    "\n",
    "# Print out the names\n",
    "\n"
   ]
  },
  {
   "cell_type": "markdown",
   "metadata": {
    "collapsed": true
   },
   "source": [
    "## Q3 (3 pts) Open these URLs in your browser:\n",
    "- https://api.umd.io/v0/courses?dept_id=INST\n",
    "- https://api.umd.io/v0/courses?dept_id=INST&gen_ed=DSSP\n",
    "\n",
    "What is displayed each time?"
   ]
  },
  {
   "cell_type": "code",
   "execution_count": null,
   "metadata": {},
   "outputs": [],
   "source": [
    "#Your Comparison here\n",
    "\n",
    "\n"
   ]
  },
  {
   "cell_type": "code",
   "execution_count": null,
   "metadata": {},
   "outputs": [],
   "source": [
    "# Adapted from UMD Courses team\n",
    "import urllib.request, urllib.parse, urllib.error, json\n",
    "\n",
    "# base URL\n",
    "url = 'https://api.umd.io/v0/courses?'\n",
    "\n",
    "# parameters for the request\n",
    "url += 'dept_id=INST'\n",
    "#url += '&gen_ed=DSSP'\n",
    "\n",
    "fh = urllib.request.urlopen(url)\n",
    "data = json.loads(fh.read().decode())\n",
    "\n",
    "data"
   ]
  },
  {
   "cell_type": "markdown",
   "metadata": {},
   "source": [
    "### 3B (4 pts) Modify the code to print each:\n",
    "<ol><li>Course name\n",
    "<li>Course ID\n",
    "<li>Prerequisites - analyze the code carefully\n",
    "<li>Sections</ol>\n",
    "\n",
    "Test each change before you make the next one - step-by-step, incremental development!"
   ]
  },
  {
   "cell_type": "code",
   "execution_count": null,
   "metadata": {},
   "outputs": [],
   "source": [
    "# Adapted from UMD Courses team\n",
    "import urllib.request, urllib.parse, urllib.error, json\n",
    "\n",
    "# base URL\n",
    "url = 'https://api.umd.io/v0/courses?'\n",
    "\n",
    "# parameters for the request\n",
    "url += 'dept_id=INST'\n",
    "#url += '&gen_ed=DSSP'\n",
    "\n",
    "fh = urllib.request.urlopen(url)\n",
    "data = json.loads(fh.read().decode())\n",
    "\n",
    "# INSERT YOUR CODE HERE\n",
    "\n",
    "\n",
    "data"
   ]
  },
  {
   "cell_type": "markdown",
   "metadata": {},
   "source": [
    "### Q4 (1 pt) Retrieve all the words starting with ‘b’ or ‘B’ from the following text."
   ]
  },
  {
   "cell_type": "code",
   "execution_count": 2,
   "metadata": {},
   "outputs": [],
   "source": [
    "text = \"\"\"Betty bought a bit of butter, But the butter was so bitter, \n",
    "So she bought some better butter, To make the bitter butter better.\"\"\" "
   ]
  },
  {
   "cell_type": "markdown",
   "metadata": {},
   "source": [
    "### Q5 (2 pts) Clean up the following tweet so that it contains only the user’s message. That is, remove all URLs, hashtags, mentions, punctuations, RTs and CCs."
   ]
  },
  {
   "cell_type": "code",
   "execution_count": 3,
   "metadata": {},
   "outputs": [],
   "source": [
    "tweet = '''Good advice! RT @TheNextWeb: What I would do differently if I was learning to code today \n",
    "http://t.co/lbwej0pxOd cc: @garybernhardt #rstats'''\n",
    "\n",
    "desired_output = 'Good advice What I would do differently if I was learning to code today'"
   ]
  },
  {
   "cell_type": "markdown",
   "metadata": {},
   "source": [
    "### Q6 (6 pts)  Given the file 'usa.txt' which contains a large list of American English words, create a crossword helper function that takes as its argument a string with some known letters and underscores for unknown letters (Example inputs: \"c_ol___t___\", \"ca___l__ge\", or \"cis____\") and outputs a list of possible matches."
   ]
  },
  {
   "cell_type": "code",
   "execution_count": null,
   "metadata": {},
   "outputs": [],
   "source": [
    "#Load the file\n",
    "with open('usa.txt') as dict_file:\n",
    "    dictionary = dict_file.readlines()\n",
    "    \n",
    "# Your code here\n",
    "\n"
   ]
  }
 ],
 "metadata": {
  "kernelspec": {
   "display_name": "Python 3",
   "language": "python",
   "name": "python3"
  },
  "language_info": {
   "codemirror_mode": {
    "name": "ipython",
    "version": 3
   },
   "file_extension": ".py",
   "mimetype": "text/x-python",
   "name": "python",
   "nbconvert_exporter": "python",
   "pygments_lexer": "ipython3",
   "version": "3.7.3"
  }
 },
 "nbformat": 4,
 "nbformat_minor": 2
}
