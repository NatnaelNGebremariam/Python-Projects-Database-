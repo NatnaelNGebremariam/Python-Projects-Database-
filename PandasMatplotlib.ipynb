{
 "cells": [
  {
   "cell_type": "markdown",
   "metadata": {},
   "source": [
    "# INST 126 – Introduction to Programming for Information Science\n",
    "# HW: Pandas and Matplotlib"
   ]
  },
  {
   "cell_type": "code",
   "execution_count": null,
   "metadata": {},
   "outputs": [],
   "source": []
  },
  {
   "cell_type": "markdown",
   "metadata": {},
   "source": [
    "You'll need the file `Salaries.csv`, which contains data about 2008-09 nine-month academic salary for Assistant Professors, Associate Professors and Professors in a college in the U.S.. Make sure it's in the same directory as this python notebook. More info about the dataset is here: https://vincentarelbundock.github.io/Rdatasets/doc/carData/Salaries.html"
   ]
  },
  {
   "cell_type": "markdown",
   "metadata": {},
   "source": [
    "## Exercise 1: Import the pandas library and read the dataset\n",
    "\n",
    "Import the pandas library, then use the `read_csv()` function to read the `Salaries.csv` dataset, and put the resulting dataframe in the variable `salaries`. Print a quick summary of how many variables (and observations) are in the dataset, using the `.count()` dataframe method."
   ]
  },
  {
   "cell_type": "code",
   "execution_count": 24,
   "metadata": {},
   "outputs": [
    {
     "data": {
      "text/plain": [
       "rank             400\n",
       "discipline       400\n",
       "yrs.since.phd    399\n",
       "yrs.service      399\n",
       "sex              399\n",
       "salary           400\n",
       "dtype: int64"
      ]
     },
     "execution_count": 24,
     "metadata": {},
     "output_type": "execute_result"
    }
   ],
   "source": [
    "# Your code here\n",
    "#get library and put in our workspace\n",
    "import pandas as pd\n",
    "\n",
    "#use a method from the library\n",
    "salaries=pd.read_csv(\"Salaries.csv\")\n",
    "\n",
    "#counting dataset\n",
    "salaries.count()"
   ]
  },
  {
   "cell_type": "markdown",
   "metadata": {},
   "source": [
    "\"Pretty print\" the first 25 rows of the dataframe using `.head()` method. You'll need to pass in 25 as a parameter to the `.head()` method."
   ]
  },
  {
   "cell_type": "code",
   "execution_count": 27,
   "metadata": {
    "scrolled": true
   },
   "outputs": [
    {
     "data": {
      "text/html": [
       "<div>\n",
       "<style scoped>\n",
       "    .dataframe tbody tr th:only-of-type {\n",
       "        vertical-align: middle;\n",
       "    }\n",
       "\n",
       "    .dataframe tbody tr th {\n",
       "        vertical-align: top;\n",
       "    }\n",
       "\n",
       "    .dataframe thead th {\n",
       "        text-align: right;\n",
       "    }\n",
       "</style>\n",
       "<table border=\"1\" class=\"dataframe\">\n",
       "  <thead>\n",
       "    <tr style=\"text-align: right;\">\n",
       "      <th></th>\n",
       "      <th>rank</th>\n",
       "      <th>discipline</th>\n",
       "      <th>yrs.since.phd</th>\n",
       "      <th>yrs.service</th>\n",
       "      <th>sex</th>\n",
       "      <th>salary</th>\n",
       "    </tr>\n",
       "  </thead>\n",
       "  <tbody>\n",
       "    <tr>\n",
       "      <th>0</th>\n",
       "      <td>Prof</td>\n",
       "      <td>B</td>\n",
       "      <td>19.0</td>\n",
       "      <td>18.0</td>\n",
       "      <td>Male</td>\n",
       "      <td>139750</td>\n",
       "    </tr>\n",
       "    <tr>\n",
       "      <th>1</th>\n",
       "      <td>Prof</td>\n",
       "      <td>B</td>\n",
       "      <td>20.0</td>\n",
       "      <td>16.0</td>\n",
       "      <td>Male</td>\n",
       "      <td>173200</td>\n",
       "    </tr>\n",
       "    <tr>\n",
       "      <th>2</th>\n",
       "      <td>AsstProf</td>\n",
       "      <td>B</td>\n",
       "      <td>4.0</td>\n",
       "      <td>3.0</td>\n",
       "      <td>Male</td>\n",
       "      <td>79750</td>\n",
       "    </tr>\n",
       "    <tr>\n",
       "      <th>3</th>\n",
       "      <td>Prof</td>\n",
       "      <td>B</td>\n",
       "      <td>45.0</td>\n",
       "      <td>39.0</td>\n",
       "      <td>Male</td>\n",
       "      <td>115000</td>\n",
       "    </tr>\n",
       "    <tr>\n",
       "      <th>4</th>\n",
       "      <td>Prof</td>\n",
       "      <td>B</td>\n",
       "      <td>40.0</td>\n",
       "      <td>41.0</td>\n",
       "      <td>Male</td>\n",
       "      <td>141500</td>\n",
       "    </tr>\n",
       "    <tr>\n",
       "      <th>5</th>\n",
       "      <td>AssocProf</td>\n",
       "      <td>B</td>\n",
       "      <td>6.0</td>\n",
       "      <td>6.0</td>\n",
       "      <td>Male</td>\n",
       "      <td>97000</td>\n",
       "    </tr>\n",
       "    <tr>\n",
       "      <th>6</th>\n",
       "      <td>Prof</td>\n",
       "      <td>B</td>\n",
       "      <td>30.0</td>\n",
       "      <td>23.0</td>\n",
       "      <td>Male</td>\n",
       "      <td>175000</td>\n",
       "    </tr>\n",
       "    <tr>\n",
       "      <th>7</th>\n",
       "      <td>Prof</td>\n",
       "      <td>B</td>\n",
       "      <td>45.0</td>\n",
       "      <td>45.0</td>\n",
       "      <td>Male</td>\n",
       "      <td>147765</td>\n",
       "    </tr>\n",
       "    <tr>\n",
       "      <th>8</th>\n",
       "      <td>Prof</td>\n",
       "      <td>B</td>\n",
       "      <td>21.0</td>\n",
       "      <td>20.0</td>\n",
       "      <td>Male</td>\n",
       "      <td>119250</td>\n",
       "    </tr>\n",
       "    <tr>\n",
       "      <th>9</th>\n",
       "      <td>Prof</td>\n",
       "      <td>B</td>\n",
       "      <td>18.0</td>\n",
       "      <td>18.0</td>\n",
       "      <td>Female</td>\n",
       "      <td>129000</td>\n",
       "    </tr>\n",
       "    <tr>\n",
       "      <th>10</th>\n",
       "      <td>AssocProf</td>\n",
       "      <td>B</td>\n",
       "      <td>12.0</td>\n",
       "      <td>8.0</td>\n",
       "      <td>Male</td>\n",
       "      <td>119800</td>\n",
       "    </tr>\n",
       "    <tr>\n",
       "      <th>11</th>\n",
       "      <td>AsstProf</td>\n",
       "      <td>B</td>\n",
       "      <td>7.0</td>\n",
       "      <td>2.0</td>\n",
       "      <td>Male</td>\n",
       "      <td>79800</td>\n",
       "    </tr>\n",
       "    <tr>\n",
       "      <th>12</th>\n",
       "      <td>AsstProf</td>\n",
       "      <td>B</td>\n",
       "      <td>1.0</td>\n",
       "      <td>1.0</td>\n",
       "      <td>Male</td>\n",
       "      <td>77700</td>\n",
       "    </tr>\n",
       "    <tr>\n",
       "      <th>13</th>\n",
       "      <td>AsstProf</td>\n",
       "      <td>B</td>\n",
       "      <td>2.0</td>\n",
       "      <td>0.0</td>\n",
       "      <td>Male</td>\n",
       "      <td>78000</td>\n",
       "    </tr>\n",
       "    <tr>\n",
       "      <th>14</th>\n",
       "      <td>Prof</td>\n",
       "      <td>B</td>\n",
       "      <td>20.0</td>\n",
       "      <td>18.0</td>\n",
       "      <td>Male</td>\n",
       "      <td>104800</td>\n",
       "    </tr>\n",
       "    <tr>\n",
       "      <th>15</th>\n",
       "      <td>Prof</td>\n",
       "      <td>B</td>\n",
       "      <td>12.0</td>\n",
       "      <td>3.0</td>\n",
       "      <td>Male</td>\n",
       "      <td>117150</td>\n",
       "    </tr>\n",
       "    <tr>\n",
       "      <th>16</th>\n",
       "      <td>Prof</td>\n",
       "      <td>B</td>\n",
       "      <td>19.0</td>\n",
       "      <td>20.0</td>\n",
       "      <td>Male</td>\n",
       "      <td>101000</td>\n",
       "    </tr>\n",
       "    <tr>\n",
       "      <th>17</th>\n",
       "      <td>Prof</td>\n",
       "      <td>B</td>\n",
       "      <td>NaN</td>\n",
       "      <td>23.0</td>\n",
       "      <td>Male</td>\n",
       "      <td>99000</td>\n",
       "    </tr>\n",
       "    <tr>\n",
       "      <th>18</th>\n",
       "      <td>Prof</td>\n",
       "      <td>A</td>\n",
       "      <td>38.0</td>\n",
       "      <td>34.0</td>\n",
       "      <td>Male</td>\n",
       "      <td>103450</td>\n",
       "    </tr>\n",
       "    <tr>\n",
       "      <th>19</th>\n",
       "      <td>Prof</td>\n",
       "      <td>A</td>\n",
       "      <td>37.0</td>\n",
       "      <td>23.0</td>\n",
       "      <td>Male</td>\n",
       "      <td>124750</td>\n",
       "    </tr>\n",
       "    <tr>\n",
       "      <th>20</th>\n",
       "      <td>Prof</td>\n",
       "      <td>A</td>\n",
       "      <td>39.0</td>\n",
       "      <td>36.0</td>\n",
       "      <td>Female</td>\n",
       "      <td>137000</td>\n",
       "    </tr>\n",
       "    <tr>\n",
       "      <th>21</th>\n",
       "      <td>Prof</td>\n",
       "      <td>A</td>\n",
       "      <td>31.0</td>\n",
       "      <td>26.0</td>\n",
       "      <td>Male</td>\n",
       "      <td>89565</td>\n",
       "    </tr>\n",
       "    <tr>\n",
       "      <th>22</th>\n",
       "      <td>Prof</td>\n",
       "      <td>A</td>\n",
       "      <td>36.0</td>\n",
       "      <td>31.0</td>\n",
       "      <td>Male</td>\n",
       "      <td>102580</td>\n",
       "    </tr>\n",
       "    <tr>\n",
       "      <th>23</th>\n",
       "      <td>Prof</td>\n",
       "      <td>A</td>\n",
       "      <td>34.0</td>\n",
       "      <td>30.0</td>\n",
       "      <td>Male</td>\n",
       "      <td>93904</td>\n",
       "    </tr>\n",
       "    <tr>\n",
       "      <th>24</th>\n",
       "      <td>Prof</td>\n",
       "      <td>A</td>\n",
       "      <td>24.0</td>\n",
       "      <td>19.0</td>\n",
       "      <td>Male</td>\n",
       "      <td>113068</td>\n",
       "    </tr>\n",
       "  </tbody>\n",
       "</table>\n",
       "</div>"
      ],
      "text/plain": [
       "         rank discipline  yrs.since.phd  yrs.service     sex  salary\n",
       "0        Prof          B           19.0         18.0    Male  139750\n",
       "1        Prof          B           20.0         16.0    Male  173200\n",
       "2    AsstProf          B            4.0          3.0    Male   79750\n",
       "3        Prof          B           45.0         39.0    Male  115000\n",
       "4        Prof          B           40.0         41.0    Male  141500\n",
       "5   AssocProf          B            6.0          6.0    Male   97000\n",
       "6        Prof          B           30.0         23.0    Male  175000\n",
       "7        Prof          B           45.0         45.0    Male  147765\n",
       "8        Prof          B           21.0         20.0    Male  119250\n",
       "9        Prof          B           18.0         18.0  Female  129000\n",
       "10  AssocProf          B           12.0          8.0    Male  119800\n",
       "11   AsstProf          B            7.0          2.0    Male   79800\n",
       "12   AsstProf          B            1.0          1.0    Male   77700\n",
       "13   AsstProf          B            2.0          0.0    Male   78000\n",
       "14       Prof          B           20.0         18.0    Male  104800\n",
       "15       Prof          B           12.0          3.0    Male  117150\n",
       "16       Prof          B           19.0         20.0    Male  101000\n",
       "17       Prof          B            NaN         23.0    Male   99000\n",
       "18       Prof          A           38.0         34.0    Male  103450\n",
       "19       Prof          A           37.0         23.0    Male  124750\n",
       "20       Prof          A           39.0         36.0  Female  137000\n",
       "21       Prof          A           31.0         26.0    Male   89565\n",
       "22       Prof          A           36.0         31.0    Male  102580\n",
       "23       Prof          A           34.0         30.0    Male   93904\n",
       "24       Prof          A           24.0         19.0    Male  113068"
      ]
     },
     "execution_count": 27,
     "metadata": {},
     "output_type": "execute_result"
    }
   ],
   "source": [
    "# Your code here\n",
    "import pandas as pd\n",
    "rows=pd.read_csv(\"Salaries.csv\")\n",
    "rows.head(25)"
   ]
  },
  {
   "cell_type": "markdown",
   "metadata": {},
   "source": [
    "### Exercise 2: Summarize the data\n",
    "Get some quick stats with the `.describe()` method."
   ]
  },
  {
   "cell_type": "code",
   "execution_count": 12,
   "metadata": {},
   "outputs": [
    {
     "data": {
      "text/html": [
       "<div>\n",
       "<style scoped>\n",
       "    .dataframe tbody tr th:only-of-type {\n",
       "        vertical-align: middle;\n",
       "    }\n",
       "\n",
       "    .dataframe tbody tr th {\n",
       "        vertical-align: top;\n",
       "    }\n",
       "\n",
       "    .dataframe thead th {\n",
       "        text-align: right;\n",
       "    }\n",
       "</style>\n",
       "<table border=\"1\" class=\"dataframe\">\n",
       "  <thead>\n",
       "    <tr style=\"text-align: right;\">\n",
       "      <th></th>\n",
       "      <th>yrs.since.phd</th>\n",
       "      <th>yrs.service</th>\n",
       "      <th>salary</th>\n",
       "    </tr>\n",
       "  </thead>\n",
       "  <tbody>\n",
       "    <tr>\n",
       "      <th>count</th>\n",
       "      <td>399.000000</td>\n",
       "      <td>399.000000</td>\n",
       "      <td>400.000000</td>\n",
       "    </tr>\n",
       "    <tr>\n",
       "      <th>mean</th>\n",
       "      <td>22.233083</td>\n",
       "      <td>17.601504</td>\n",
       "      <td>113538.660000</td>\n",
       "    </tr>\n",
       "    <tr>\n",
       "      <th>std</th>\n",
       "      <td>12.909360</td>\n",
       "      <td>12.987009</td>\n",
       "      <td>30253.387593</td>\n",
       "    </tr>\n",
       "    <tr>\n",
       "      <th>min</th>\n",
       "      <td>1.000000</td>\n",
       "      <td>0.000000</td>\n",
       "      <td>57800.000000</td>\n",
       "    </tr>\n",
       "    <tr>\n",
       "      <th>25%</th>\n",
       "      <td>12.000000</td>\n",
       "      <td>7.000000</td>\n",
       "      <td>91000.000000</td>\n",
       "    </tr>\n",
       "    <tr>\n",
       "      <th>50%</th>\n",
       "      <td>21.000000</td>\n",
       "      <td>16.000000</td>\n",
       "      <td>107175.000000</td>\n",
       "    </tr>\n",
       "    <tr>\n",
       "      <th>75%</th>\n",
       "      <td>32.000000</td>\n",
       "      <td>26.500000</td>\n",
       "      <td>134046.250000</td>\n",
       "    </tr>\n",
       "    <tr>\n",
       "      <th>max</th>\n",
       "      <td>56.000000</td>\n",
       "      <td>60.000000</td>\n",
       "      <td>231545.000000</td>\n",
       "    </tr>\n",
       "  </tbody>\n",
       "</table>\n",
       "</div>"
      ],
      "text/plain": [
       "       yrs.since.phd  yrs.service         salary\n",
       "count     399.000000   399.000000     400.000000\n",
       "mean       22.233083    17.601504  113538.660000\n",
       "std        12.909360    12.987009   30253.387593\n",
       "min         1.000000     0.000000   57800.000000\n",
       "25%        12.000000     7.000000   91000.000000\n",
       "50%        21.000000    16.000000  107175.000000\n",
       "75%        32.000000    26.500000  134046.250000\n",
       "max        56.000000    60.000000  231545.000000"
      ]
     },
     "execution_count": 12,
     "metadata": {},
     "output_type": "execute_result"
    }
   ],
   "source": [
    "# Your code here\n",
    "import pandas as pd\n",
    "description=pd.read_csv(\"Salaries.csv\")\n",
    "description.describe()\n"
   ]
  },
  {
   "cell_type": "markdown",
   "metadata": {},
   "source": [
    "`.describe()` only gives you stats for quantitative values. Let's find out how many observations we have for the `rank` and `sex` variables.\n",
    "\n",
    "First, use the `.value_counts()` method to get the count of each unique value in the **rank** column. Examples here: https://leportella.com/cheatlist/2017/11/22/pandas-cheat-list.html (documentation here: https://pandas.pydata.org/pandas-docs/stable/generated/pandas.Series.value_counts.html)"
   ]
  },
  {
   "cell_type": "code",
   "execution_count": 54,
   "metadata": {},
   "outputs": [
    {
     "data": {
      "text/plain": [
       "Prof         267\n",
       "AsstProf      68\n",
       "AssocProf     65\n",
       "Name: rank, dtype: int64"
      ]
     },
     "execution_count": 54,
     "metadata": {},
     "output_type": "execute_result"
    }
   ],
   "source": [
    "# Your code here\n",
    "#df[column].value_counts()\n",
    "import pandas as pd\n",
    "df=pd.read_csv(\"Salaries.csv\")\n",
    "df[\"rank\"].value_counts()\n"
   ]
  },
  {
   "cell_type": "markdown",
   "metadata": {},
   "source": [
    "Now, use the `.value_counts()` method to get the count of each unique value in the **sex** column."
   ]
  },
  {
   "cell_type": "code",
   "execution_count": 55,
   "metadata": {},
   "outputs": [
    {
     "data": {
      "text/plain": [
       "Male      360\n",
       "Female     39\n",
       "Name: sex, dtype: int64"
      ]
     },
     "execution_count": 55,
     "metadata": {},
     "output_type": "execute_result"
    }
   ],
   "source": [
    "## Your code here\n",
    "#df[column].value_counts()\n",
    "import pandas as pd\n",
    "df=pd.read_csv(\"Salaries.csv\")\n",
    "df[\"sex\"].value_counts()"
   ]
  },
  {
   "cell_type": "markdown",
   "metadata": {},
   "source": [
    "### Exercise 3: Remove rows with missing data\n",
    "You need to use the `dropna()` method of a dataframe. More info here: https://pandas.pydata.org/pandas-docs/stable/generated/pandas.DataFrame.dropna.html\n",
    "\n",
    "Drop all rows that have missing data in any of the columns. Assign the resulting dataframe to the variable `salaries_nonull`. Print the `.count()` summary of the dataframe to confirm that you've removed missing data (the counts should be the same for all columns)"
   ]
  },
  {
   "cell_type": "code",
   "execution_count": 40,
   "metadata": {},
   "outputs": [
    {
     "data": {
      "text/plain": [
       "rank             400\n",
       "discipline       400\n",
       "yrs.since.phd    399\n",
       "yrs.service      399\n",
       "sex              399\n",
       "salary           400\n",
       "dtype: int64"
      ]
     },
     "execution_count": 40,
     "metadata": {},
     "output_type": "execute_result"
    }
   ],
   "source": [
    "# Your code here\n",
    "#get library and put in our workspace\n",
    "import pandas as pd\n",
    "\n",
    "#use a method from the library\n",
    "salaries_nonull=pd.read_csv(\"Salaries.csv\")\n",
    "salaries_nonull.dropna()\n",
    "#counting dataset\n",
    "salaries_nonull.count()"
   ]
  },
  {
   "cell_type": "markdown",
   "metadata": {},
   "source": [
    "### Exercise 4: Plot salary as a function of yrs.since.phd\n",
    "Use the `.scatter()` function to make a scatterplot with `yrs.since.phd` on the x axis and `salary` on the y-axis. Make sure you use the `salaries_nonull` dataframe you made in the previous step.\n",
    "\n",
    "Add \"Salary vs. Yrs since PhD\" as a title for the plot, and label the x-axis \"Years since PhD\" and the y-axis \"Annual Salary\". You'll need the `.title()`, `.xlabel()`, and `ylabel()` methods. (TIP: try using tab autocomplete to explore what methods you have with plt; to try this, type plt. then hit tab)."
   ]
  },
  {
   "cell_type": "code",
   "execution_count": 53,
   "metadata": {},
   "outputs": [
    {
     "data": {
      "text/plain": [
       "Text(0, 0.5, 'Annual Salary')"
      ]
     },
     "execution_count": 53,
     "metadata": {},
     "output_type": "execute_result"
    },
    {
     "data": {
      "image/png": "[encoded data removed]",
      "text/plain": [
       "<Figure size 432x288 with 1 Axes>"
      ]
     },
     "metadata": {
      "needs_background": "light"
     },
     "output_type": "display_data"
    }
   ],
   "source": [
    "# import the matplotlib pyplot library as plt\n",
    "import pandas as pd\n",
    "\n",
    "\n",
    "# Your code here\n",
    "salaries_nonull=pd.read_csv(\"Salaries.csv\")\n",
    "ax1=salaries_nonull.plot.scatter(x='yrs.since.phd',y='salary')\n",
    "\n",
    "# # other code below here\n",
    "plt.title(\"Salary vs. Yrs since PhD\")\n",
    "plt.xlabel(\"Years since PhD\")\n",
    "plt.ylabel(\"Annual Salary\")\n",
    "\n"
   ]
  },
  {
   "cell_type": "markdown",
   "metadata": {},
   "source": [
    "### Exercise 5: Summarize and plot the data by rank\n",
    "Use the `groupby` function to summarize the data by the `rank` variable, set the parameter `as_index` to `False` (so we can use the grouping variable for plotting; more on this later), and make sure the data in each group is summarized by the mean of the values (by chaining it with the `.mean()` method. Google these methods/terms to find the docs! Assign the resulting dataframe to the variable `salaries_byRank`, then call the variable to display the dataframe."
   ]
  },
  {
   "cell_type": "code",
   "execution_count": 64,
   "metadata": {},
   "outputs": [
    {
     "data": {
      "text/plain": [
       "rank             3\n",
       "yrs.since.phd    3\n",
       "yrs.service      3\n",
       "salary           3\n",
       "dtype: int64"
      ]
     },
     "execution_count": 64,
     "metadata": {},
     "output_type": "execute_result"
    }
   ],
   "source": [
    "# Your code here\n",
    "# Your code here\n",
    "#df[column].value_counts()\n",
    "import pandas as pd\n",
    "df=pd.read_csv(\"Salaries.csv\")\n",
    "salaries_byRank=df.groupby(by=[\"rank\"],as_index=False).mean()\n",
    "salaries_byRbarank.count()"
   ]
  },
  {
   "cell_type": "markdown",
   "metadata": {},
   "source": [
    "Now use the `bar()` function from the matplotlib library to plot a bar graph of the average salary by rank. Docs here: https://matplotlib.org/api/_as_gen/matplotlib.pyplot.bar.html\n",
    "\n",
    "Add \"Salary by Rank\" as a title for the plot, and label the x-axis \"Rank\" and the y-axis \"Annual Salary\". You'll need the `.title()`, `.xlabel()`, and `ylabel()` methods."
   ]
  },
  {
   "cell_type": "code",
   "execution_count": 71,
   "metadata": {},
   "outputs": [
    {
     "data": {
      "text/plain": [
       "Text(0, 0.5, 'Annual Salary')"
      ]
     },
     "execution_count": 71,
     "metadata": {},
     "output_type": "execute_result"
    },
    {
     "data": {
      "image/png": "[encoded data removed]",
      "text/plain": [
       "<Figure size 432x288 with 1 Axes>"
      ]
     },
     "metadata": {
      "needs_background": "light"
     },
     "output_type": "display_data"
    }
   ],
   "source": [
    "\n",
    "x = salaries_byRank['rank']\n",
    "y = salaries_byRank['salary']\n",
    "plt.bar(x, y)\n",
    "# other code below here\n",
    "import pandas as pd\n",
    "df=pd.read_csv(\"Salaries.csv\")\n",
    "plt.title(\"Salary by Rank\")\n",
    "plt.xlabel(\"Rank\")\n",
    "plt.ylabel(\"Annual Salary\")\n"
   ]
  },
  {
   "cell_type": "markdown",
   "metadata": {},
   "source": [
    "### Exercise 6: Make the same plot (salaries by rank), but only for the \"A\" discipline, and then only for the \"B\" discipline\n",
    "You'll make 2 dataframes, one filtered from `salaries_nonull` to only have rows where `discipline == A` (store the resulting dataframe in the variable `salaries_A`), and then one filtered from `salaries_nonull` to only have rows where `discipline == B` (store the resulting dataframe in the variable `salaries_B`). You can use the `.query()` or `.loc` methods, whichever you're more comfortable with.\n",
    "\n",
    "After that, for each dataframe, you can do what you did in Exercise 5: use the `groupby` function to summarize the filtered dataframe by the `rank` variable, set the parameter `as_index` to `False` (so we can use the grouping variable for plotting; more on this later), and make sure the data in each group is summarized by the mean of the values (by chaining it with the `.mean()` method. Assign the resulting dataframes to `salaries_byRank_A` (and then `salaries_byRank_B` when you do this for the filtered dataframe with only the B discipline), then call the variable to display the dataframe. Then use the `bar()` function from the matplotlib library to plot a bar graph of the average salary by rank. Add \"Salary by Rank (A discipline)\" (or \"Salary by Rank (B discipline)\") as a title for the plot, and label the x-axis \"Rank\" and the y-axis \"Annual Salary\". You'll need the `.title()`, `.xlabel()`, and `ylabel()` methods.\n",
    "\n",
    "First do this for the A discipline."
   ]
  },
  {
   "cell_type": "code",
   "execution_count": 88,
   "metadata": {},
   "outputs": [
    {
     "data": {
      "text/plain": [
       "Text(0, 0.5, 'Annual Salary')"
      ]
     },
     "execution_count": 88,
     "metadata": {},
     "output_type": "execute_result"
    },
    {
     "data": {
      "image/png": "[encoded data removed]",
      "text/plain": [
       "<Figure size 432x288 with 1 Axes>"
      ]
     },
     "metadata": {
      "needs_background": "light"
     },
     "output_type": "display_data"
    }
   ],
   "source": [
    "# Your code here\n",
    "import pandas as pd\n",
    "import matplotlib.pyplot as plt\n",
    "\n",
    "salaries_nonull=pd.read_csv(\"Salaries.csv\")\n",
    "salaries_A=salaries_nonull.query(\"discipline == 'A'\",inplace=False)\n",
    "salaries_byRank_A=salaries_A.groupby(by=[\"rank\"],as_index=False).mean()\n",
    "salaries_byRank_A.count()\n",
    "#Graphing\n",
    "x = salaries_byRank['rank']\n",
    "y = salaries_byRank['salary']\n",
    "plt.bar(x, y)\n",
    "\n",
    "plt.title(\"Salary by Rank\")\n",
    "plt.xlabel(\"Rank\")\n",
    "plt.ylabel(\"Annual Salary\")\n",
    "\n"
   ]
  },
  {
   "cell_type": "markdown",
   "metadata": {},
   "source": [
    "Then for the B discipline."
   ]
  },
  {
   "cell_type": "code",
   "execution_count": 89,
   "metadata": {},
   "outputs": [
    {
     "data": {
      "text/plain": [
       "Text(0, 0.5, 'Annual Salary')"
      ]
     },
     "execution_count": 89,
     "metadata": {},
     "output_type": "execute_result"
    },
    {
     "data": {
      "image/png": "[encoded data removed]",
      "text/plain": [
       "<Figure size 432x288 with 1 Axes>"
      ]
     },
     "metadata": {
      "needs_background": "light"
     },
     "output_type": "display_data"
    }
   ],
   "source": [
    "# Your code here\n",
    "import pandas as pd\n",
    "\n",
    "salaries_nonull=pd.read_csv(\"Salaries.csv\")\n",
    "salaries_B=salaries_nonull.query(\"discipline == 'B'\",inplace=False)\n",
    "salaries_byRank_B=salaries_B.groupby(by=[\"rank\"],as_index=False).mean()\n",
    "salaries_byRank_B.count()\n",
    "#Graphing\n",
    "x = salaries_byRank['rank']\n",
    "y = salaries_byRank['salary']\n",
    "plt.bar(x, y)\n",
    "\n",
    "plt.title(\"Salary by Rank\")\n",
    "plt.xlabel(\"Rank\")\n",
    "plt.ylabel(\"Annual Salary\")\n",
    "\n",
    "\n"
   ]
  },
  {
   "cell_type": "code",
   "execution_count": null,
   "metadata": {},
   "outputs": [],
   "source": []
  }
 ],
 "metadata": {
  "kernelspec": {
   "display_name": "Python 3 (ipykernel)",
   "language": "python",
   "name": "python3"
  },
  "language_info": {
   "codemirror_mode": {
    "name": "ipython",
    "version": 3
   },
   "file_extension": ".py",
   "mimetype": "text/x-python",
   "name": "python",
   "nbconvert_exporter": "python",
   "pygments_lexer": "ipython3",
   "version": "3.9.7"
  }
 },
 "nbformat": 4,
 "nbformat_minor": 2
}
