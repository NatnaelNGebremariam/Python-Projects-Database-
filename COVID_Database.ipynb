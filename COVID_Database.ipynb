{
 "cells": [
  {
   "cell_type": "code",
   "execution_count": null,
   "id": "de2a7337-9d80-4adf-9f8f-a9e33bf4382e",
   "metadata": {},
   "outputs": [],
   "source": [
    "#Dictionary for covid rates of continents(During 2019)\n",
    "continents19= {\n",
    "    \"North America\": \"1\",\n",
    "    \"South America\": \"2\",\n",
    "    \"Africa\":\"3\",\n",
    "    \"Europe\":\"4\",\n",
    "    \"Asia\":\"5\",\n",
    "    \"Australia\":\"6\",\n",
    "    \"Antarctica\":\"7\",\n",
    "}\n",
    "#Dictionary for covid rates of continents(Current)\n",
    "continents22= {\n",
    "    \"North America\": \"11\",\n",
    "    \"South America\": \"22\",\n",
    "    \"Africa\":\"33\",\n",
    "    \"Europe\":\"44\",\n",
    "    \"Asia\":\"55\",\n",
    "    \"Australia\":\"66\",\n",
    "    \"Antarctica\":\"77\",\n",
    "}\n",
    "\n",
    "#Introduces the COVID stimulator\n",
    "print('Welcome to the COVID Stimulator! Here you will be able to see past and present COVID statistics for any continent!')\n",
    "selectcontinent=input('Type the Continent you would like the statistics for! Type \"DONE\" when you are finished seeing the data you want!')\n",
    "\n",
    "#Displays COVID rates for 2019 vs Current based on user interaction\n",
    "if selectcontinent==continents19:\n",
    "    selectcontinent=continents19[\"selectcontinent\"]\n",
    "        \n",
    "    \n",
    "if selectcontinent==continents22:\n",
    "    selectcontinent=continents22[\"selectcontinent\"]\n",
    "print('2019:'+selectcontinent, '2022:'+selectcontinent)\n",
    "\n",
    "#Link\n",
    "#https://towardsdatascience.com/how-to-track-coronavirus-with-python-a5320b778c8e\n",
    "#https://www.youtube.com/watch?v=sAgMASsNmaI\n",
    "# I found these links aboves up searching on google \"Covid Project Python\" \n",
    "# The information I got from these videos helped me to get ideas like creating a more structureted table\n",
    "#and then use that table to creat graphs that compares deaths in different years\n"
   ]
  }
 ],
 "metadata": {
  "kernelspec": {
   "display_name": "Python 3 (ipykernel)",
   "language": "python",
   "name": "python3"
  },
  "language_info": {
   "codemirror_mode": {
    "name": "ipython",
    "version": 3
   },
   "file_extension": ".py",
   "mimetype": "text/x-python",
   "name": "python",
   "nbconvert_exporter": "python",
   "pygments_lexer": "ipython3",
   "version": "3.9.7"
  }
 },
 "nbformat": 4,
 "nbformat_minor": 5
}
