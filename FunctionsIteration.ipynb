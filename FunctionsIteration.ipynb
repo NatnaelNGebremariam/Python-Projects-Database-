{
 "cells": [
  {
   "cell_type": "markdown",
   "metadata": {},
   "source": [
    "# INST 126 – Introduction to Programming for Information Science\n",
    "# Homework 2: Functions, Lists, and Iteration"
   ]
  },
  {
   "cell_type": "markdown",
   "metadata": {},
   "source": [
    "## Exercise 1\n",
    "\n",
    "#### Write a simple function called `welcome_student()` that helps a new student get oriented in INST 126. It should take the name of the student as an argument, welcome that student by name, and then print a series of essential things they need to know to get started.\n",
    "\n",
    "Here's an example of what your output should look like after you call your function:\n",
    "\n",
    "`Hello! What is your name: Jennifer Proctor`  \n",
    "`Hello, Jennifer Proctor! Welcome to INST 126! Here are some things you should know to get started`     \n",
    "`The book we are using for this class is Python for Everyone. It's freely available online.`\n",
    "`It's really important to practice coding along with the demonstrations in the lecture videos, to ask questions and participate in discussion threads, and to try your best on the practical coding assignments (\"Missions\") on time.`  \n",
    "`Good luck!`  "
   ]
  },
  {
   "cell_type": "code",
   "execution_count": 33,
   "metadata": {},
   "outputs": [],
   "source": [
    "# Define your function here\n",
    "def introduction():\n",
    "    print('Hello,' +student_name+ '!' 'Welcome to INST 126! Here are some things you shoukd know to get started The book we are using for this class is Python for Everyone.''It''s freely available online. It''s really important to practice coding along with the demonstrations in the lecture videos, to ask questions and participate in discussion threads, and to try your best on the practical coding assignments (\"Missions\") on time. Good luck!')"
   ]
  },
  {
   "cell_type": "code",
   "execution_count": 34,
   "metadata": {
    "scrolled": true
   },
   "outputs": [
    {
     "name": "stdout",
     "output_type": "stream",
     "text": [
      "Hello! What is your name:Nati\n",
      "Hello,Nati!Welcome to INST 126! Here are some things you shoukd know to get started The book we are using for this class is Python for Everyone.Its freely available online. Its really important to practice coding along with the demonstrations in the lecture videos, to ask questions and participate in discussion threads, and to try your best on the practical coding assignments (\"Missions\") on time. Good luck!\n"
     ]
    }
   ],
   "source": [
    "student_name = input('Hello! What is your name:')\n",
    "# Call your function here and pass in the right argument\n",
    "introduction()"
   ]
  },
  {
   "cell_type": "markdown",
   "metadata": {},
   "source": [
    "## Exercise 2\n",
    "\n",
    "#### Write a simple function called `is_even()` that checks whether a number is an even number (i.e., does not yield a remainder when divided by 2). \n",
    "\n",
    "#### Your function should take a parameter num as input, and **return** True if the number is even, and False if it's not.\n",
    "\n",
    "*Hint: you will need the modulo operator in Python for this function\n",
    "\n",
    "Here are some test cases to pass:\n",
    "- is_even(7) should return False\n",
    "- is_even(10) should return True"
   ]
  },
  {
   "cell_type": "code",
   "execution_count": 31,
   "metadata": {},
   "outputs": [],
   "source": [
    "# Define your function here\n",
    "\n",
    "def is_even(num):\n",
    "    if num % 2 == 0:\n",
    "        print(True)\n",
    "    if num %2 ==1:\n",
    "        print(False)"
   ]
  },
  {
   "cell_type": "code",
   "execution_count": 32,
   "metadata": {},
   "outputs": [
    {
     "name": "stdout",
     "output_type": "stream",
     "text": [
      "False\n"
     ]
    }
   ],
   "source": [
    "# Test it here\n",
    "num = 5\n",
    "is_even(num)"
   ]
  },
  {
   "cell_type": "markdown",
   "metadata": {},
   "source": [
    "## Exercise 3\n",
    "\n",
    "#### A program was created that outputs the following unto the console: "
   ]
  },
  {
   "cell_type": "markdown",
   "metadata": {},
   "source": [
    "`Hello! What is your name:`  \n",
    "`Hello, Jane Doe! Using this program, we can help you determine you pay for the week!`  \n",
    "`Please enter the hours you worked this week: 20`  \n",
    "`Next, please enter your rate of pay: 10`  \n",
    "`Calculating… you will make $ 200 by the end of the week!`"
   ]
  },
  {
   "cell_type": "markdown",
   "metadata": {},
   "source": [
    "#### Here is the code for that program"
   ]
  },
  {
   "cell_type": "code",
   "execution_count": null,
   "metadata": {},
   "outputs": [],
   "source": [
    "user_name = input(\"Hello! What is your name?\\n\")\n",
    "\n",
    "#Write the same greeting above with the user’s name\n",
    "print(\"Hello, \" + user_name + \"! Using this program, we can help you determine you pay for the week!\")\n",
    "\n",
    "#Ask the user for the rate of pay following the same format from the output above\n",
    "hours_worked = float(input(\"Please enter the hours you worked this week:\\n\"))\n",
    "rate_of_pay = float(input(\"Next, please enter your rate of pay:\\n\"))\n",
    "\n",
    "#Create a variable that multiplies the hours_worked and the rate_of_pay\n",
    "pay_for_week = hours_worked * rate_of_pay\n",
    "\n",
    "#Write a print statement that will output the last line of the output provided\n",
    "print(\"Calculating… you will make $\" + str(pay_for_week) + \" by the end of the week!\")"
   ]
  },
  {
   "cell_type": "markdown",
   "metadata": {},
   "source": [
    "#### Let's modify this program to comply with overtime rules. Let's give the employee 1.5 times the hourly rate for hours worked above 40 hours. \n",
    "\n",
    "*Hint: use conditionals to change what happens after we get hours_worked and rate_of_pay, depending on whether hours_worked is more/less than 40*\n",
    "\n",
    "Here are some test cases:\n",
    "* If the number of hours worked is 45, and the rate of pay is 10, you should get 475.0 (10/hr for 40 hrs, and 15/hr for 5 hrs).\n",
    "* If the number of hours worked is 35, and the rate of pay is 10, you should get 350.0 (10/hr for 35 hrs).\n",
    "* If the number of hours worked is 63, and the rate of pay is 10, you should get 745.0 (10/hr for 40 hrs, and 15/hr for 23)."
   ]
  },
  {
   "cell_type": "code",
   "execution_count": 44,
   "metadata": {
    "scrolled": true
   },
   "outputs": [
    {
     "name": "stdout",
     "output_type": "stream",
     "text": [
      "Hello! What is your name?\n",
      "Nati\n",
      "Hello, Nati! Using this program, we can help you determine you pay for the week!\n",
      "Please enter the hours you worked this week:\n",
      "63\n",
      "Next, please enter your rate of pay:\n",
      "10\n",
      "Calculating… you will make $745.0 by the end of the week!\n"
     ]
    }
   ],
   "source": [
    "# Write your code for Exercise 3 here\n",
    "user_name = input(\"Hello! What is your name?\\n\")\n",
    "\n",
    "#Write the same greeting above with the user’s name\n",
    "print(\"Hello, \" + user_name + \"! Using this program, we can help you determine you pay for the week!\")\n",
    "\n",
    "#Ask the user for the rate of pay following the same format from the output above\n",
    "hours_worked = float(input(\"Please enter the hours you worked this week:\\n\"))\n",
    "rate_of_pay = float(input(\"Next, please enter your rate of pay:\\n\"))\n",
    "\n",
    "#Create a variable that multiplies the hours_worked and the rate_of_pay\n",
    "pay_for_week = hours_worked * rate_of_pay\n",
    "\n",
    "if hours_worked >= 40:\n",
    "    pay_for_week=40*10\n",
    "    extrahours=hours_worked-40\n",
    "    extrapay=15*extrahours\n",
    "    pay_for_week= pay_for_week + extrapay\n",
    "    \n",
    "\n",
    "#Write a print statement that will output the last line of the output provided\n",
    "print(\"Calculating… you will make $\" + str(pay_for_week) + \" by the end of the week!\")"
   ]
  },
  {
   "cell_type": "markdown",
   "metadata": {},
   "source": [
    "## Exercise 4\n",
    "\n",
    "#### Now imagine that we have a list of 5 employees who have each worked 45, 15, 63, 23, and 39 hours. We'll fix rate_of_pay at 10. Payroll wants to mail checks for each of these employees. Use a definite loop (for loop) to loop through the list of employee hours and print the appropriate pay statement.\n",
    "\n",
    "Your output should look something like:\n",
    "\n",
    "`Paying 475.0 to Employee 1`  \n",
    "`Paying 150.0 to Employee 2`  \n",
    "`Paying 745.0 to Employee 3`  \n",
    "`Paying 230.0 to Employee 4`  \n",
    "`Paying 390.0 to Employee 5`\n"
   ]
  },
  {
   "cell_type": "code",
   "execution_count": 53,
   "metadata": {},
   "outputs": [
    {
     "ename": "TypeError",
     "evalue": "can only concatenate str (not \"int\") to str",
     "output_type": "error",
     "traceback": [
      "\u001b[0;31m---------------------------------------------------------------------------\u001b[0m",
      "\u001b[0;31mTypeError\u001b[0m                                 Traceback (most recent call last)",
      "\u001b[0;32m/var/folders/cq/t3lprw6931z9d495tvzgwdmh0000gn/T/ipykernel_61538/499200741.py\u001b[0m in \u001b[0;36m<module>\u001b[0;34m\u001b[0m\n\u001b[1;32m     11\u001b[0m         \u001b[0mcount\u001b[0m\u001b[0;34m=\u001b[0m\u001b[0mcount\u001b[0m\u001b[0;34m+\u001b[0m\u001b[0;36m1\u001b[0m\u001b[0;34m\u001b[0m\u001b[0;34m\u001b[0m\u001b[0m\n\u001b[1;32m     12\u001b[0m         \u001b[0mrate_of_pay\u001b[0m\u001b[0;34m=\u001b[0m\u001b[0mline\u001b[0m\u001b[0;34m*\u001b[0m\u001b[0mrate_of_pay\u001b[0m\u001b[0;34m\u001b[0m\u001b[0;34m\u001b[0m\u001b[0m\n\u001b[0;32m---> 13\u001b[0;31m         \u001b[0mprint\u001b[0m\u001b[0;34m(\u001b[0m\u001b[0;34m'Paying'\u001b[0m\u001b[0;34m+\u001b[0m \u001b[0mrate_of_pay\u001b[0m \u001b[0;34m+\u001b[0m\u001b[0;34m'to Employee'\u001b[0m \u001b[0;34m+\u001b[0m\u001b[0mcount\u001b[0m\u001b[0;34m)\u001b[0m\u001b[0;34m\u001b[0m\u001b[0;34m\u001b[0m\u001b[0m\n\u001b[0m\u001b[1;32m     14\u001b[0m \u001b[0;34m\u001b[0m\u001b[0m\n\u001b[1;32m     15\u001b[0m \u001b[0;34m\u001b[0m\u001b[0m\n",
      "\u001b[0;31mTypeError\u001b[0m: can only concatenate str (not \"int\") to str"
     ]
    }
   ],
   "source": [
    "# Write your code for Exercise 4 here\n",
    "\n",
    "# Set rate of pay\n",
    "rate_of_pay = 10\n",
    "# Write the for loop here. Make it iterate over this list: [45, 15, 63, 23, 39]\n",
    "payment=[45, 15, 63, 23, 39]\n",
    "employee=1\n",
    "for hours_worked in payment:\n",
    "    if hours_worked <=40:\n",
    "        weekpay= hours_worked*rate_of_pay\n",
    "    else:\n",
    "        weekpay= rate_of_pay*1.5(hours_worked-40)+rate_of_pay*40\n",
    "    print('Paying'+str(weekpay)+'to employee'+str(employee))\n",
    "    employee=employee+1\n"
   ]
  },
  {
   "cell_type": "markdown",
   "metadata": {},
   "source": [
    "## Exercise 5\n",
    "\n",
    "#### Open the file romeo.txt and read it line by line. For each line, split the line into a list of words using the split() method. The program should build a list of words. For each word on each line check to see if the word is already in the list and if not append it to the list. When the program completes, sort and print the resulting words in alphabetical order.\n",
    "\n",
    "Desired output:\n",
    "\n",
    "['Arise', 'But', 'It', 'Juliet', 'Who', 'already', 'and', 'breaks', 'east', 'envious', 'fair', 'grief', 'is', 'kill', 'light', 'moon', 'pale', 'sick', 'soft', 'sun', 'the', 'through', 'what', 'window', 'with', 'yonder']\n",
    "\n",
    "# First, write the pseudocode for your program here."
   ]
  },
  {
   "cell_type": "code",
   "execution_count": 3,
   "metadata": {},
   "outputs": [],
   "source": [
    "# Pseudocode here (do not run the cell)"
   ]
  },
  {
   "cell_type": "code",
   "execution_count": null,
   "metadata": {},
   "outputs": [],
   "source": [
    "#Now write the Python code. We haven't talked about files yet, so we'll get you started with the code for opening the file\n",
    "\n",
    "fname = 'romeo.txt'\n",
    "\n",
    "# open the file\n",
    "\n",
    "fh = open(fname)\n",
    "\n",
    "# read the lines in the file into a list\n",
    "flines = fh.readlines()\n",
    "\n",
    "# your code goes here, if necessary\n",
    "\n",
    "for line in flines:\n",
    "    # your code goes here, if necessary\n",
    "    splitlines=line.split()\n",
    "    print(splitlines)\n",
    "# your code goes here, if necessary\n"
   ]
  },
  {
   "cell_type": "markdown",
   "metadata": {},
   "source": [
    "## Exercise 6\n",
    "\n",
    "#### Write a for loop that will print out each character in the string \"supercalifragilisticexpialidocious\""
   ]
  },
  {
   "cell_type": "code",
   "execution_count": null,
   "metadata": {},
   "outputs": [],
   "source": [
    "# Write your code for Exercise 6 here\n",
    "character='supercalifragilisticexpialidocious'\n",
    "i=0\n",
    "for line in character:\n",
    "    print(character[i])\n",
    "    i=i+1"
   ]
  },
  {
   "cell_type": "markdown",
   "metadata": {},
   "source": [
    "## Exercise 7\n",
    "\n",
    "#### Modify your code to print only the vowel characters in the string \"supercalifragilisticexpialidocious\"\n",
    "\n",
    "#Hint: you can use a ton of if/elif/else statements, but you can save a lot of typing by using the `in` operator"
   ]
  },
  {
   "cell_type": "code",
   "execution_count": 114,
   "metadata": {},
   "outputs": [
    {
     "name": "stdout",
     "output_type": "stream",
     "text": [
      "u\n",
      "e\n",
      "a\n",
      "i\n",
      "a\n",
      "i\n",
      "i\n",
      "i\n",
      "e\n",
      "i\n",
      "a\n",
      "i\n",
      "o\n",
      "i\n",
      "o\n",
      "u\n"
     ]
    }
   ],
   "source": [
    "# Write your code for Exercise 7 here\n",
    "character='supercalifragilisticexpialidocious'\n",
    "for vowel in character:\n",
    "    if vowel in 'aeiou':\n",
    "        print(vowel)"
   ]
  },
  {
   "cell_type": "markdown",
   "metadata": {},
   "source": [
    "## Exercise 8\n",
    "\n",
    "#### Write a function called `name_facts` that will take a firstname (string) as an input parameter, and print out various facts about the name, including: 1) its length, 2) whether it starts with the letter A, and 3) whether it contains a Z or X. To gain full credit for this exercise, you must use string formatting to print out the result.\n",
    "\n",
    "#*Hints*: \n",
    "#* You will probably want to convert the string to lowercase when checking conditions 2 and 3. You can get by without it, but you'll have to make sure you check both lower and uppercase versions of the letters\n",
    "#* You will have to use the `in` operator for condition 3\n",
    "#* You will also probably want to make a separate message for conditions 2 and 3 (depending on the answer) and use string formatting to join them into the final message\n",
    "\n",
    "#Example output (given \"Allegra\" as input):  \n",
    "#* Given \"Allegra\" as input: `Your name is 7 letters long, does start with the letter A, and does not contain a Z or X`\n",
    "#* Given \"Xander\" as input: `Your name is 6 letters long, does not start with the letter A, and does contain a Z or X`"
   ]
  },
  {
   "cell_type": "code",
   "execution_count": null,
   "metadata": {},
   "outputs": [],
   "source": [
    "# Write your code for Exercise 8 here\n",
    "\n",
    "name=input('What is your name?')\n",
    "length=len(name)\n",
    "strlength=str(length)\n",
    "letter=name[0]\n",
    "strname=str(name)\n",
    "\n",
    "if name in 'x' or 'z':\n",
    "    if name[0]== 'a':\n",
    "        print ('Your name is '+ strlength +  ' letters long,' 'does start with the letter ' \"A\" ', and does not contains Z or X')\n",
    "    \n",
    "    print ('Your name is '+ strlength +  ' letters long,' 'does start with the letter ' \"A\" ', and does contains Z or X')\n",
    "elif name[0]== 'a':\n",
    "     print ('Your name is '+ strlength +  ' letters long,' 'does start with the letter ' \"A\" ', and does not contains Z or X')\n",
    "\n",
    "else:\n",
    "    print('Your name is '+ strlength +  ' letters long,' 'does not start with the letter ' \"A\" ', and does not contain Z or X')\n",
    "       "
   ]
  },
  {
   "cell_type": "code",
   "execution_count": null,
   "metadata": {},
   "outputs": [],
   "source": []
  },
  {
   "cell_type": "code",
   "execution_count": null,
   "metadata": {},
   "outputs": [],
   "source": []
  }
 ],
 "metadata": {
  "kernelspec": {
   "display_name": "Python 3 (ipykernel)",
   "language": "python",
   "name": "python3"
  },
  "language_info": {
   "codemirror_mode": {
    "name": "ipython",
    "version": 3
   },
   "file_extension": ".py",
   "mimetype": "text/x-python",
   "name": "python",
   "nbconvert_exporter": "python",
   "pygments_lexer": "ipython3",
   "version": "3.9.7"
  }
 },
 "nbformat": 4,
 "nbformat_minor": 2
}
